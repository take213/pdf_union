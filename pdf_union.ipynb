{
 "cells": [
  {
   "cell_type": "code",
   "execution_count": 8,
   "id": "afa46389",
   "metadata": {},
   "outputs": [],
   "source": [
    "def pdf_union(pdf_paths, output_path):\n",
    "    \"\"\"\n",
    "    pdf画像のパスをリストで受け取り、\n",
    "    結合してoutput_pathに保存する関数\n",
    "    \"\"\"\n",
    "    pdf = fitz.open(pdf_paths[0])\n",
    "    for i in range(1, len(pdf_paths)):\n",
    "        pdf.insert_pdf(fitz.open(pdf_paths[i]),\n",
    "                      from_page = 0,\n",
    "                      to_page = 1,\n",
    "                      start_at = i)\n",
    "    pdf.save(os.path.join(output_path, \"concated.pdf\"))"
   ]
  },
  {
   "cell_type": "code",
   "execution_count": 22,
   "id": "67e55928",
   "metadata": {},
   "outputs": [],
   "source": [
    "import glob\n",
    "import os\n",
    "\n",
    "base_path =  r\"C:\\Users\\np4_2\\OneDrive\\ドキュメント\\確定拠出年金\\202304\"\n",
    "pdf_paths = sorted(glob.glob(pathname = os.path.join(base_path, \"*.pdf\")))\n",
    "\n",
    "pdf_union(pdf_paths, base_path)"
   ]
  }
 ],
 "metadata": {
  "kernelspec": {
   "display_name": "Python 3 (ipykernel)",
   "language": "python",
   "name": "python3"
  },
  "language_info": {
   "codemirror_mode": {
    "name": "ipython",
    "version": 3
   },
   "file_extension": ".py",
   "mimetype": "text/x-python",
   "name": "python",
   "nbconvert_exporter": "python",
   "pygments_lexer": "ipython3",
   "version": "3.8.10"
  },
  "toc": {
   "base_numbering": 1,
   "nav_menu": {},
   "number_sections": true,
   "sideBar": true,
   "skip_h1_title": false,
   "title_cell": "Table of Contents",
   "title_sidebar": "Contents",
   "toc_cell": false,
   "toc_position": {},
   "toc_section_display": true,
   "toc_window_display": false
  }
 },
 "nbformat": 4,
 "nbformat_minor": 5
}
